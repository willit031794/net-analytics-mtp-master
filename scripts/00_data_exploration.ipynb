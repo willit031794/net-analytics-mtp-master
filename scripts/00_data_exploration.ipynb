{
 "cells": [
  {
   "cell_type": "markdown",
   "metadata": {
    "ExecuteTime": {
     "end_time": "2020-10-31T18:30:02.721385Z",
     "start_time": "2020-10-31T18:30:02.717025Z"
    }
   },
   "source": [
    "# Content\n",
    "starwars-episode-N-interactions.json contains the social network extracted from Episode N, where the links between characters are defined by the times the characters speak within the same scene.\n",
    "\n",
    "## Nodes\n",
    "\n",
    "**name:** Name of the character  \n",
    "**value:** Number of scenes the character appeared in  \n",
    "**colour:** Colour in the visualization  \n",
    "\n",
    "## Links represent connections between characters  \n",
    "\n",
    "**source:** zero-based index of the character that is one end of the link, the order of nodes is the order in which they are listed in the “nodes” element  \n",
    "**target:** zero-based index of the character that is the the other end of the link.  \n",
    "**value:** Number of scenes where the “source character” and “target character” of the link appeared together.  \n",
    "\n",
    "The network is undirected and which character represents the source and the target is arbitrary, they correspond only to two ends of the link.\n",
    "\n",
    "\n",
    "**More infomration about the dataset**\n",
    "-   [Kaggle: Star Wars Social Network](https://www.kaggle.com/ruchi798/star-wars)\n"
   ]
  },
  {
   "cell_type": "markdown",
   "metadata": {},
   "source": [
    "# Import relevant libraries"
   ]
  },
  {
   "cell_type": "code",
   "execution_count": 1,
   "metadata": {
    "ExecuteTime": {
     "end_time": "2020-11-11T14:59:12.948533Z",
     "start_time": "2020-11-11T14:59:11.876173Z"
    }
   },
   "outputs": [],
   "source": [
    "import os\n",
    "import glob\n",
    "import json\n",
    "import numpy as np\n",
    "import pandas as pd\n",
    "import networkx as nx\n",
    "import matplotlib.pyplot as plt\n",
    "import seaborn as sns\n",
    "from tabulate import tabulate\n",
    "from networkx.algorithms import degree_centrality\n",
    "from networkx.algorithms import eigenvector_centrality\n",
    "from networkx.algorithms import betweenness_centrality\n",
    "from community_detection.data_preprocessing import load_starwars_graph"
   ]
  },
  {
   "cell_type": "markdown",
   "metadata": {},
   "source": [
    "# Network exploration"
   ]
  },
  {
   "cell_type": "markdown",
   "metadata": {},
   "source": [
    "## Load data"
   ]
  },
  {
   "cell_type": "code",
   "execution_count": 2,
   "metadata": {
    "ExecuteTime": {
     "end_time": "2020-11-11T14:59:12.955529Z",
     "start_time": "2020-11-11T14:59:12.950548Z"
    }
   },
   "outputs": [],
   "source": [
    "# setup data path\n",
    "base_path = os.path.join('..', 'datasets')\n",
    "file_path = os.path.join(base_path, 'starwars-full-interactions.json')\n",
    "\n",
    "with open(file_path) as json_file:\n",
    "    data = json.load(json_file)"
   ]
  },
  {
   "cell_type": "code",
   "execution_count": 3,
   "metadata": {
    "ExecuteTime": {
     "end_time": "2020-11-11T14:59:13.087287Z",
     "start_time": "2020-11-11T14:59:12.957643Z"
    }
   },
   "outputs": [],
   "source": [
    "nodes = data['nodes']\n",
    "edges = data['links']"
   ]
  },
  {
   "cell_type": "code",
   "execution_count": 4,
   "metadata": {
    "ExecuteTime": {
     "end_time": "2020-11-11T14:59:13.175185Z",
     "start_time": "2020-11-11T14:59:13.096642Z"
    }
   },
   "outputs": [
    {
     "data": {
      "text/html": [
       "<div>\n",
       "<style scoped>\n",
       "    .dataframe tbody tr th:only-of-type {\n",
       "        vertical-align: middle;\n",
       "    }\n",
       "\n",
       "    .dataframe tbody tr th {\n",
       "        vertical-align: top;\n",
       "    }\n",
       "\n",
       "    .dataframe thead th {\n",
       "        text-align: right;\n",
       "    }\n",
       "</style>\n",
       "<table border=\"1\" class=\"dataframe\">\n",
       "  <thead>\n",
       "    <tr style=\"text-align: right;\">\n",
       "      <th></th>\n",
       "      <th>name</th>\n",
       "      <th>value</th>\n",
       "      <th>colour</th>\n",
       "    </tr>\n",
       "  </thead>\n",
       "  <tbody>\n",
       "    <tr>\n",
       "      <th>70</th>\n",
       "      <td>HAN</td>\n",
       "      <td>169</td>\n",
       "      <td>#ff9400</td>\n",
       "    </tr>\n",
       "    <tr>\n",
       "      <th>64</th>\n",
       "      <td>LUKE</td>\n",
       "      <td>160</td>\n",
       "      <td>#3881e5</td>\n",
       "    </tr>\n",
       "    <tr>\n",
       "      <th>21</th>\n",
       "      <td>C-3PO</td>\n",
       "      <td>150</td>\n",
       "      <td>#FFD700</td>\n",
       "    </tr>\n",
       "    <tr>\n",
       "      <th>4</th>\n",
       "      <td>OBI-WAN</td>\n",
       "      <td>147</td>\n",
       "      <td>#48D1CC</td>\n",
       "    </tr>\n",
       "    <tr>\n",
       "      <th>17</th>\n",
       "      <td>ANAKIN</td>\n",
       "      <td>131</td>\n",
       "      <td>#ce3b59</td>\n",
       "    </tr>\n",
       "    <tr>\n",
       "      <th>67</th>\n",
       "      <td>LEIA</td>\n",
       "      <td>98</td>\n",
       "      <td>#DCDCDC</td>\n",
       "    </tr>\n",
       "    <tr>\n",
       "      <th>14</th>\n",
       "      <td>PADME</td>\n",
       "      <td>74</td>\n",
       "      <td>#DDA0DD</td>\n",
       "    </tr>\n",
       "    <tr>\n",
       "      <th>94</th>\n",
       "      <td>FINN</td>\n",
       "      <td>63</td>\n",
       "      <td>#07b19f</td>\n",
       "    </tr>\n",
       "    <tr>\n",
       "      <th>0</th>\n",
       "      <td>QUI-GON</td>\n",
       "      <td>61</td>\n",
       "      <td>#4f4fb1</td>\n",
       "    </tr>\n",
       "    <tr>\n",
       "      <th>63</th>\n",
       "      <td>DARTH VADER</td>\n",
       "      <td>58</td>\n",
       "      <td>#000000</td>\n",
       "    </tr>\n",
       "  </tbody>\n",
       "</table>\n",
       "</div>"
      ],
      "text/plain": [
       "           name  value   colour\n",
       "70          HAN    169  #ff9400\n",
       "64         LUKE    160  #3881e5\n",
       "21        C-3PO    150  #FFD700\n",
       "4       OBI-WAN    147  #48D1CC\n",
       "17       ANAKIN    131  #ce3b59\n",
       "67         LEIA     98  #DCDCDC\n",
       "14        PADME     74  #DDA0DD\n",
       "94         FINN     63  #07b19f\n",
       "0       QUI-GON     61  #4f4fb1\n",
       "63  DARTH VADER     58  #000000"
      ]
     },
     "execution_count": 4,
     "metadata": {},
     "output_type": "execute_result"
    }
   ],
   "source": [
    "df_nodes = pd.DataFrame(nodes)\n",
    "df_nodes.sort_values(by = 'value', ascending = False).head(10)"
   ]
  },
  {
   "cell_type": "code",
   "execution_count": 5,
   "metadata": {
    "ExecuteTime": {
     "end_time": "2020-11-11T14:59:13.241493Z",
     "start_time": "2020-11-11T14:59:13.177035Z"
    },
    "scrolled": true
   },
   "outputs": [
    {
     "data": {
      "text/html": [
       "<div>\n",
       "<style scoped>\n",
       "    .dataframe tbody tr th:only-of-type {\n",
       "        vertical-align: middle;\n",
       "    }\n",
       "\n",
       "    .dataframe tbody tr th {\n",
       "        vertical-align: top;\n",
       "    }\n",
       "\n",
       "    .dataframe thead th {\n",
       "        text-align: right;\n",
       "    }\n",
       "</style>\n",
       "<table border=\"1\" class=\"dataframe\">\n",
       "  <thead>\n",
       "    <tr style=\"text-align: right;\">\n",
       "      <th></th>\n",
       "      <th>source</th>\n",
       "      <th>target</th>\n",
       "      <th>value</th>\n",
       "    </tr>\n",
       "  </thead>\n",
       "  <tbody>\n",
       "    <tr>\n",
       "      <th>0</th>\n",
       "      <td>1</td>\n",
       "      <td>0</td>\n",
       "      <td>1</td>\n",
       "    </tr>\n",
       "    <tr>\n",
       "      <th>1</th>\n",
       "      <td>2</td>\n",
       "      <td>3</td>\n",
       "      <td>1</td>\n",
       "    </tr>\n",
       "    <tr>\n",
       "      <th>2</th>\n",
       "      <td>4</td>\n",
       "      <td>3</td>\n",
       "      <td>1</td>\n",
       "    </tr>\n",
       "    <tr>\n",
       "      <th>3</th>\n",
       "      <td>0</td>\n",
       "      <td>3</td>\n",
       "      <td>1</td>\n",
       "    </tr>\n",
       "    <tr>\n",
       "      <th>4</th>\n",
       "      <td>4</td>\n",
       "      <td>0</td>\n",
       "      <td>26</td>\n",
       "    </tr>\n",
       "  </tbody>\n",
       "</table>\n",
       "</div>"
      ],
      "text/plain": [
       "   source  target  value\n",
       "0       1       0      1\n",
       "1       2       3      1\n",
       "2       4       3      1\n",
       "3       0       3      1\n",
       "4       4       0     26"
      ]
     },
     "execution_count": 5,
     "metadata": {},
     "output_type": "execute_result"
    }
   ],
   "source": [
    "df_edges = pd.DataFrame(edges)\n",
    "df_edges.head()"
   ]
  },
  {
   "cell_type": "code",
   "execution_count": 6,
   "metadata": {
    "ExecuteTime": {
     "end_time": "2020-11-11T14:59:13.300493Z",
     "start_time": "2020-11-11T14:59:13.242881Z"
    }
   },
   "outputs": [
    {
     "name": "stdout",
     "output_type": "stream",
     "text": [
      "Name: Star-Wars\n",
      "Type: Graph\n",
      "Number of nodes: 110\n",
      "Number of edges: 398\n",
      "Average degree:   7.2364\n"
     ]
    }
   ],
   "source": [
    "G = load_starwars_graph()"
   ]
  },
  {
   "cell_type": "markdown",
   "metadata": {},
   "source": [
    "## Visualization"
   ]
  },
  {
   "cell_type": "code",
   "execution_count": 7,
   "metadata": {
    "ExecuteTime": {
     "end_time": "2020-11-11T14:59:14.259907Z",
     "start_time": "2020-11-11T14:59:13.303177Z"
    }
   },
   "outputs": [
    {
     "data": {
      "image/png": "[encoded data removed]",
      "text/plain": [
       "<Figure size 576x432 with 1 Axes>"
      ]
     },
     "metadata": {},
     "output_type": "display_data"
    }
   ],
   "source": [
    "# plot decoration\n",
    "# map the color of each node with its community\n",
    "colors = list(df_nodes.colour)\n",
    "color_map = []\n",
    "# loop over nodes in G\n",
    "for node in G:\n",
    "    color_map.append(colors[node])\n",
    "\n",
    "options = {\n",
    "    'node_color': color_map,\n",
    "    'node_size': 400,\n",
    "    'alpha': 1,\n",
    "    'width': 1,\n",
    "    'with_labels': True,\n",
    "    'font_size': 10,\n",
    "    'font_color': 'white'}\n",
    "\n",
    "# set graph pattern\n",
    "pos = nx.kamada_kawai_layout(G)\n",
    "    \n",
    "#set graph size\n",
    "plt.figure(figsize=(8, 6)) \n",
    "\n",
    "# draw the network\n",
    "nx.draw(G, pos, **options)"
   ]
  },
  {
   "cell_type": "code",
   "execution_count": 8,
   "metadata": {
    "ExecuteTime": {
     "end_time": "2020-11-11T14:59:14.374637Z",
     "start_time": "2020-11-11T14:59:14.264629Z"
    }
   },
   "outputs": [],
   "source": [
    "# degree\n",
    "degree = degree_centrality(G)\n",
    "\n",
    "# eigenvector_centrality\n",
    "ec = eigenvector_centrality(G)\n",
    "\n",
    "# betweeness centrality\n",
    "bc = betweenness_centrality(G)"
   ]
  },
  {
   "cell_type": "code",
   "execution_count": 9,
   "metadata": {
    "ExecuteTime": {
     "end_time": "2020-11-11T14:59:16.309118Z",
     "start_time": "2020-11-11T14:59:14.376637Z"
    }
   },
   "outputs": [
    {
     "data": {
      "text/html": [
       "<div>\n",
       "<style scoped>\n",
       "    .dataframe tbody tr th:only-of-type {\n",
       "        vertical-align: middle;\n",
       "    }\n",
       "\n",
       "    .dataframe tbody tr th {\n",
       "        vertical-align: top;\n",
       "    }\n",
       "\n",
       "    .dataframe thead th {\n",
       "        text-align: right;\n",
       "    }\n",
       "</style>\n",
       "<table border=\"1\" class=\"dataframe\">\n",
       "  <thead>\n",
       "    <tr style=\"text-align: right;\">\n",
       "      <th></th>\n",
       "      <th>degree</th>\n",
       "      <th>eigenvector_centrality</th>\n",
       "      <th>betweenness_centrality</th>\n",
       "    </tr>\n",
       "  </thead>\n",
       "  <tbody>\n",
       "    <tr>\n",
       "      <th>degree</th>\n",
       "      <td>1.000000</td>\n",
       "      <td>0.916554</td>\n",
       "      <td>0.852981</td>\n",
       "    </tr>\n",
       "    <tr>\n",
       "      <th>eigenvector_centrality</th>\n",
       "      <td>0.916554</td>\n",
       "      <td>1.000000</td>\n",
       "      <td>0.676867</td>\n",
       "    </tr>\n",
       "    <tr>\n",
       "      <th>betweenness_centrality</th>\n",
       "      <td>0.852981</td>\n",
       "      <td>0.676867</td>\n",
       "      <td>1.000000</td>\n",
       "    </tr>\n",
       "  </tbody>\n",
       "</table>\n",
       "</div>"
      ],
      "text/plain": [
       "                          degree  eigenvector_centrality  \\\n",
       "degree                  1.000000                0.916554   \n",
       "eigenvector_centrality  0.916554                1.000000   \n",
       "betweenness_centrality  0.852981                0.676867   \n",
       "\n",
       "                        betweenness_centrality  \n",
       "degree                                0.852981  \n",
       "eigenvector_centrality                0.676867  \n",
       "betweenness_centrality                1.000000  "
      ]
     },
     "execution_count": 9,
     "metadata": {},
     "output_type": "execute_result"
    },
    {
     "data": {
      "image/png": "[encoded data removed]",
      "text/plain": [
       "<Figure size 540x540 with 12 Axes>"
      ]
     },
     "metadata": {},
     "output_type": "display_data"
    }
   ],
   "source": [
    "# visualize results\n",
    "df = pd.DataFrame({'degree': degree, 'eigenvector_centrality': ec,\n",
    "                   'betweenness_centrality': bc})\n",
    "\n",
    "#scatter plot matrix\n",
    "# visualization options\n",
    "sns.set_theme(style=\"ticks\")\n",
    "\n",
    "sns.pairplot(df)\n",
    "\n",
    "# correlation matrix\n",
    "df.corr()"
   ]
  },
  {
   "cell_type": "code",
   "execution_count": 10,
   "metadata": {
    "ExecuteTime": {
     "end_time": "2020-11-11T14:59:16.329771Z",
     "start_time": "2020-11-11T14:59:16.310546Z"
    }
   },
   "outputs": [
    {
     "data": {
      "text/html": [
       "<div>\n",
       "<style scoped>\n",
       "    .dataframe tbody tr th:only-of-type {\n",
       "        vertical-align: middle;\n",
       "    }\n",
       "\n",
       "    .dataframe tbody tr th {\n",
       "        vertical-align: top;\n",
       "    }\n",
       "\n",
       "    .dataframe thead th {\n",
       "        text-align: right;\n",
       "    }\n",
       "</style>\n",
       "<table border=\"1\" class=\"dataframe\">\n",
       "  <thead>\n",
       "    <tr style=\"text-align: right;\">\n",
       "      <th></th>\n",
       "      <th>name</th>\n",
       "      <th>value</th>\n",
       "      <th>colour</th>\n",
       "      <th>degree</th>\n",
       "      <th>eigenvector_centrality</th>\n",
       "      <th>betweenness_centrality</th>\n",
       "    </tr>\n",
       "  </thead>\n",
       "  <tbody>\n",
       "    <tr>\n",
       "      <th>0</th>\n",
       "      <td>QUI-GON</td>\n",
       "      <td>61</td>\n",
       "      <td>#4f4fb1</td>\n",
       "      <td>0.238532</td>\n",
       "      <td>0.255767</td>\n",
       "      <td>0.036212</td>\n",
       "    </tr>\n",
       "    <tr>\n",
       "      <th>1</th>\n",
       "      <td>NUTE GUNRAY</td>\n",
       "      <td>24</td>\n",
       "      <td>#808080</td>\n",
       "      <td>0.146789</td>\n",
       "      <td>0.139163</td>\n",
       "      <td>0.040897</td>\n",
       "    </tr>\n",
       "    <tr>\n",
       "      <th>2</th>\n",
       "      <td>PK-4</td>\n",
       "      <td>3</td>\n",
       "      <td>#808080</td>\n",
       "      <td>0.018349</td>\n",
       "      <td>0.023463</td>\n",
       "      <td>0.000000</td>\n",
       "    </tr>\n",
       "    <tr>\n",
       "      <th>3</th>\n",
       "      <td>TC-14</td>\n",
       "      <td>4</td>\n",
       "      <td>#808080</td>\n",
       "      <td>0.045872</td>\n",
       "      <td>0.049392</td>\n",
       "      <td>0.005642</td>\n",
       "    </tr>\n",
       "    <tr>\n",
       "      <th>4</th>\n",
       "      <td>OBI-WAN</td>\n",
       "      <td>147</td>\n",
       "      <td>#48D1CC</td>\n",
       "      <td>0.321101</td>\n",
       "      <td>0.296814</td>\n",
       "      <td>0.212897</td>\n",
       "    </tr>\n",
       "    <tr>\n",
       "      <th>5</th>\n",
       "      <td>DOFINE</td>\n",
       "      <td>3</td>\n",
       "      <td>#808080</td>\n",
       "      <td>0.027523</td>\n",
       "      <td>0.013608</td>\n",
       "      <td>0.000142</td>\n",
       "    </tr>\n",
       "    <tr>\n",
       "      <th>6</th>\n",
       "      <td>RUNE</td>\n",
       "      <td>10</td>\n",
       "      <td>#808080</td>\n",
       "      <td>0.036697</td>\n",
       "      <td>0.027948</td>\n",
       "      <td>0.001696</td>\n",
       "    </tr>\n",
       "    <tr>\n",
       "      <th>7</th>\n",
       "      <td>TEY HOW</td>\n",
       "      <td>4</td>\n",
       "      <td>#808080</td>\n",
       "      <td>0.027523</td>\n",
       "      <td>0.012247</td>\n",
       "      <td>0.000085</td>\n",
       "    </tr>\n",
       "    <tr>\n",
       "      <th>8</th>\n",
       "      <td>EMPEROR</td>\n",
       "      <td>51</td>\n",
       "      <td>#191970</td>\n",
       "      <td>0.201835</td>\n",
       "      <td>0.231125</td>\n",
       "      <td>0.074333</td>\n",
       "    </tr>\n",
       "    <tr>\n",
       "      <th>9</th>\n",
       "      <td>CAPTAIN PANAKA</td>\n",
       "      <td>19</td>\n",
       "      <td>#808080</td>\n",
       "      <td>0.082569</td>\n",
       "      <td>0.131763</td>\n",
       "      <td>0.000313</td>\n",
       "    </tr>\n",
       "    <tr>\n",
       "      <th>10</th>\n",
       "      <td>SIO BIBBLE</td>\n",
       "      <td>8</td>\n",
       "      <td>#808080</td>\n",
       "      <td>0.073394</td>\n",
       "      <td>0.128447</td>\n",
       "      <td>0.000203</td>\n",
       "    </tr>\n",
       "    <tr>\n",
       "      <th>11</th>\n",
       "      <td>JAR JAR</td>\n",
       "      <td>41</td>\n",
       "      <td>#9a9a00</td>\n",
       "      <td>0.220183</td>\n",
       "      <td>0.223692</td>\n",
       "      <td>0.040328</td>\n",
       "    </tr>\n",
       "    <tr>\n",
       "      <th>12</th>\n",
       "      <td>TARPALS</td>\n",
       "      <td>3</td>\n",
       "      <td>#808080</td>\n",
       "      <td>0.009174</td>\n",
       "      <td>0.015160</td>\n",
       "      <td>0.000000</td>\n",
       "    </tr>\n",
       "    <tr>\n",
       "      <th>13</th>\n",
       "      <td>BOSS NASS</td>\n",
       "      <td>4</td>\n",
       "      <td>#808080</td>\n",
       "      <td>0.055046</td>\n",
       "      <td>0.103353</td>\n",
       "      <td>0.000000</td>\n",
       "    </tr>\n",
       "    <tr>\n",
       "      <th>14</th>\n",
       "      <td>PADME</td>\n",
       "      <td>74</td>\n",
       "      <td>#DDA0DD</td>\n",
       "      <td>0.302752</td>\n",
       "      <td>0.286727</td>\n",
       "      <td>0.069469</td>\n",
       "    </tr>\n",
       "    <tr>\n",
       "      <th>15</th>\n",
       "      <td>RIC OLIE</td>\n",
       "      <td>11</td>\n",
       "      <td>#808080</td>\n",
       "      <td>0.064220</td>\n",
       "      <td>0.088043</td>\n",
       "      <td>0.002889</td>\n",
       "    </tr>\n",
       "    <tr>\n",
       "      <th>16</th>\n",
       "      <td>WATTO</td>\n",
       "      <td>8</td>\n",
       "      <td>#808080</td>\n",
       "      <td>0.045872</td>\n",
       "      <td>0.083774</td>\n",
       "      <td>0.000000</td>\n",
       "    </tr>\n",
       "    <tr>\n",
       "      <th>17</th>\n",
       "      <td>ANAKIN</td>\n",
       "      <td>131</td>\n",
       "      <td>#ce3b59</td>\n",
       "      <td>0.376147</td>\n",
       "      <td>0.330282</td>\n",
       "      <td>0.162171</td>\n",
       "    </tr>\n",
       "    <tr>\n",
       "      <th>18</th>\n",
       "      <td>SEBULBA</td>\n",
       "      <td>3</td>\n",
       "      <td>#808080</td>\n",
       "      <td>0.055046</td>\n",
       "      <td>0.091309</td>\n",
       "      <td>0.000000</td>\n",
       "    </tr>\n",
       "    <tr>\n",
       "      <th>19</th>\n",
       "      <td>JIRA</td>\n",
       "      <td>3</td>\n",
       "      <td>#808080</td>\n",
       "      <td>0.027523</td>\n",
       "      <td>0.059148</td>\n",
       "      <td>0.000000</td>\n",
       "    </tr>\n",
       "    <tr>\n",
       "      <th>20</th>\n",
       "      <td>SHMI</td>\n",
       "      <td>11</td>\n",
       "      <td>#808080</td>\n",
       "      <td>0.073394</td>\n",
       "      <td>0.117103</td>\n",
       "      <td>0.000542</td>\n",
       "    </tr>\n",
       "    <tr>\n",
       "      <th>21</th>\n",
       "      <td>C-3PO</td>\n",
       "      <td>150</td>\n",
       "      <td>#FFD700</td>\n",
       "      <td>0.302752</td>\n",
       "      <td>0.253782</td>\n",
       "      <td>0.192681</td>\n",
       "    </tr>\n",
       "    <tr>\n",
       "      <th>22</th>\n",
       "      <td>DARTH MAUL</td>\n",
       "      <td>5</td>\n",
       "      <td>#808080</td>\n",
       "      <td>0.036697</td>\n",
       "      <td>0.029854</td>\n",
       "      <td>0.000057</td>\n",
       "    </tr>\n",
       "    <tr>\n",
       "      <th>23</th>\n",
       "      <td>KITSTER</td>\n",
       "      <td>4</td>\n",
       "      <td>#808080</td>\n",
       "      <td>0.073394</td>\n",
       "      <td>0.109585</td>\n",
       "      <td>0.001878</td>\n",
       "    </tr>\n",
       "    <tr>\n",
       "      <th>24</th>\n",
       "      <td>WALD</td>\n",
       "      <td>3</td>\n",
       "      <td>#808080</td>\n",
       "      <td>0.045872</td>\n",
       "      <td>0.065868</td>\n",
       "      <td>0.000262</td>\n",
       "    </tr>\n",
       "    <tr>\n",
       "      <th>25</th>\n",
       "      <td>FODE/BEED</td>\n",
       "      <td>11</td>\n",
       "      <td>#808080</td>\n",
       "      <td>0.027523</td>\n",
       "      <td>0.043656</td>\n",
       "      <td>0.000000</td>\n",
       "    </tr>\n",
       "    <tr>\n",
       "      <th>26</th>\n",
       "      <td>JABBA</td>\n",
       "      <td>7</td>\n",
       "      <td>#808080</td>\n",
       "      <td>0.110092</td>\n",
       "      <td>0.133758</td>\n",
       "      <td>0.026526</td>\n",
       "    </tr>\n",
       "    <tr>\n",
       "      <th>27</th>\n",
       "      <td>GREEDO</td>\n",
       "      <td>3</td>\n",
       "      <td>#808080</td>\n",
       "      <td>0.036697</td>\n",
       "      <td>0.052597</td>\n",
       "      <td>0.004935</td>\n",
       "    </tr>\n",
       "    <tr>\n",
       "      <th>28</th>\n",
       "      <td>VALORUM</td>\n",
       "      <td>3</td>\n",
       "      <td>#808080</td>\n",
       "      <td>0.036697</td>\n",
       "      <td>0.060624</td>\n",
       "      <td>0.000000</td>\n",
       "    </tr>\n",
       "    <tr>\n",
       "      <th>29</th>\n",
       "      <td>MACE WINDU</td>\n",
       "      <td>22</td>\n",
       "      <td>#808080</td>\n",
       "      <td>0.119266</td>\n",
       "      <td>0.167901</td>\n",
       "      <td>0.002642</td>\n",
       "    </tr>\n",
       "  </tbody>\n",
       "</table>\n",
       "</div>"
      ],
      "text/plain": [
       "              name  value   colour    degree  eigenvector_centrality  \\\n",
       "0          QUI-GON     61  #4f4fb1  0.238532                0.255767   \n",
       "1      NUTE GUNRAY     24  #808080  0.146789                0.139163   \n",
       "2             PK-4      3  #808080  0.018349                0.023463   \n",
       "3            TC-14      4  #808080  0.045872                0.049392   \n",
       "4          OBI-WAN    147  #48D1CC  0.321101                0.296814   \n",
       "5           DOFINE      3  #808080  0.027523                0.013608   \n",
       "6             RUNE     10  #808080  0.036697                0.027948   \n",
       "7          TEY HOW      4  #808080  0.027523                0.012247   \n",
       "8          EMPEROR     51  #191970  0.201835                0.231125   \n",
       "9   CAPTAIN PANAKA     19  #808080  0.082569                0.131763   \n",
       "10      SIO BIBBLE      8  #808080  0.073394                0.128447   \n",
       "11         JAR JAR     41  #9a9a00  0.220183                0.223692   \n",
       "12         TARPALS      3  #808080  0.009174                0.015160   \n",
       "13       BOSS NASS      4  #808080  0.055046                0.103353   \n",
       "14           PADME     74  #DDA0DD  0.302752                0.286727   \n",
       "15        RIC OLIE     11  #808080  0.064220                0.088043   \n",
       "16           WATTO      8  #808080  0.045872                0.083774   \n",
       "17          ANAKIN    131  #ce3b59  0.376147                0.330282   \n",
       "18         SEBULBA      3  #808080  0.055046                0.091309   \n",
       "19            JIRA      3  #808080  0.027523                0.059148   \n",
       "20            SHMI     11  #808080  0.073394                0.117103   \n",
       "21           C-3PO    150  #FFD700  0.302752                0.253782   \n",
       "22      DARTH MAUL      5  #808080  0.036697                0.029854   \n",
       "23         KITSTER      4  #808080  0.073394                0.109585   \n",
       "24            WALD      3  #808080  0.045872                0.065868   \n",
       "25       FODE/BEED     11  #808080  0.027523                0.043656   \n",
       "26           JABBA      7  #808080  0.110092                0.133758   \n",
       "27          GREEDO      3  #808080  0.036697                0.052597   \n",
       "28         VALORUM      3  #808080  0.036697                0.060624   \n",
       "29      MACE WINDU     22  #808080  0.119266                0.167901   \n",
       "\n",
       "    betweenness_centrality  \n",
       "0                 0.036212  \n",
       "1                 0.040897  \n",
       "2                 0.000000  \n",
       "3                 0.005642  \n",
       "4                 0.212897  \n",
       "5                 0.000142  \n",
       "6                 0.001696  \n",
       "7                 0.000085  \n",
       "8                 0.074333  \n",
       "9                 0.000313  \n",
       "10                0.000203  \n",
       "11                0.040328  \n",
       "12                0.000000  \n",
       "13                0.000000  \n",
       "14                0.069469  \n",
       "15                0.002889  \n",
       "16                0.000000  \n",
       "17                0.162171  \n",
       "18                0.000000  \n",
       "19                0.000000  \n",
       "20                0.000542  \n",
       "21                0.192681  \n",
       "22                0.000057  \n",
       "23                0.001878  \n",
       "24                0.000262  \n",
       "25                0.000000  \n",
       "26                0.026526  \n",
       "27                0.004935  \n",
       "28                0.000000  \n",
       "29                0.002642  "
      ]
     },
     "execution_count": 10,
     "metadata": {},
     "output_type": "execute_result"
    }
   ],
   "source": [
    "# merge the table\n",
    "merged_df = pd.merge(df_nodes, df, left_index = True, right_index = True)\n",
    "merged_df.head(30)"
   ]
  },
  {
   "cell_type": "markdown",
   "metadata": {},
   "source": [
    "# Summarize by episode"
   ]
  },
  {
   "cell_type": "markdown",
   "metadata": {},
   "source": [
    "## Load data"
   ]
  },
  {
   "cell_type": "code",
   "execution_count": 11,
   "metadata": {
    "ExecuteTime": {
     "end_time": "2020-11-11T14:59:16.453752Z",
     "start_time": "2020-11-11T14:59:16.331900Z"
    }
   },
   "outputs": [
    {
     "data": {
      "text/plain": [
       "['../datasets/starwars-episode-1-interactions.json',\n",
       " '../datasets/starwars-episode-2-interactions.json',\n",
       " '../datasets/starwars-episode-3-interactions.json',\n",
       " '../datasets/starwars-episode-4-interactions.json',\n",
       " '../datasets/starwars-episode-5-interactions.json',\n",
       " '../datasets/starwars-episode-6-interactions.json',\n",
       " '../datasets/starwars-episode-7-interactions.json',\n",
       " '../datasets/starwars-full-interactions.json']"
      ]
     },
     "execution_count": 11,
     "metadata": {},
     "output_type": "execute_result"
    }
   ],
   "source": [
    "# setup data path\n",
    "base_path = os.path.join('..', 'datasets')\n",
    "files_path = glob.glob(os.path.join(base_path, '*.json'))\n",
    "files_path"
   ]
  },
  {
   "cell_type": "code",
   "execution_count": 12,
   "metadata": {
    "ExecuteTime": {
     "end_time": "2020-11-11T14:59:16.566247Z",
     "start_time": "2020-11-11T14:59:16.457479Z"
    }
   },
   "outputs": [
    {
     "name": "stdout",
     "output_type": "stream",
     "text": [
      "A variable `ep_1` was created!\n",
      "A variable `ep_2` was created!\n",
      "A variable `ep_3` was created!\n",
      "A variable `ep_4` was created!\n",
      "A variable `ep_5` was created!\n",
      "A variable `ep_6` was created!\n",
      "A variable `ep_7` was created!\n",
      "A variable `base` was created!\n"
     ]
    }
   ],
   "source": [
    "# load files by episode excluding the full-interactions file\n",
    "for i in range(len(files_path) - 1):\n",
    "    with open(files_path[i]) as json_file:\n",
    "        var_name = '_'.join(['ep', str(i+1)])\n",
    "        vars()[var_name] = json.load(json_file)\n",
    "        print('A variable `{}` was created!'.format(var_name))\n",
    "\n",
    "# load full interaction file to get all characters info\n",
    "with open(files_path[-1]) as json_file:\n",
    "    base = json.load(json_file)\n",
    "    print('A variable `base` was created!')"
   ]
  },
  {
   "cell_type": "markdown",
   "metadata": {},
   "source": [
    "## Create summary table"
   ]
  },
  {
   "cell_type": "code",
   "execution_count": 13,
   "metadata": {
    "ExecuteTime": {
     "end_time": "2020-11-11T14:59:16.603809Z",
     "start_time": "2020-11-11T14:59:16.567826Z"
    }
   },
   "outputs": [
    {
     "data": {
      "text/html": [
       "<div>\n",
       "<style scoped>\n",
       "    .dataframe tbody tr th:only-of-type {\n",
       "        vertical-align: middle;\n",
       "    }\n",
       "\n",
       "    .dataframe tbody tr th {\n",
       "        vertical-align: top;\n",
       "    }\n",
       "\n",
       "    .dataframe thead th {\n",
       "        text-align: right;\n",
       "    }\n",
       "</style>\n",
       "<table border=\"1\" class=\"dataframe\">\n",
       "  <thead>\n",
       "    <tr style=\"text-align: right;\">\n",
       "      <th></th>\n",
       "      <th>name</th>\n",
       "    </tr>\n",
       "  </thead>\n",
       "  <tbody>\n",
       "    <tr>\n",
       "      <th>0</th>\n",
       "      <td>QUI-GON</td>\n",
       "    </tr>\n",
       "    <tr>\n",
       "      <th>1</th>\n",
       "      <td>NUTE GUNRAY</td>\n",
       "    </tr>\n",
       "    <tr>\n",
       "      <th>2</th>\n",
       "      <td>PK-4</td>\n",
       "    </tr>\n",
       "    <tr>\n",
       "      <th>3</th>\n",
       "      <td>TC-14</td>\n",
       "    </tr>\n",
       "    <tr>\n",
       "      <th>4</th>\n",
       "      <td>OBI-WAN</td>\n",
       "    </tr>\n",
       "  </tbody>\n",
       "</table>\n",
       "</div>"
      ],
      "text/plain": [
       "          name\n",
       "0      QUI-GON\n",
       "1  NUTE GUNRAY\n",
       "2         PK-4\n",
       "3        TC-14\n",
       "4      OBI-WAN"
      ]
     },
     "execution_count": 13,
     "metadata": {},
     "output_type": "execute_result"
    }
   ],
   "source": [
    "# generate a table with all character as a base table for the summary\n",
    "sum_table = pd.DataFrame(base['nodes'])[['name']]\n",
    "sum_table.head()"
   ]
  },
  {
   "cell_type": "code",
   "execution_count": 14,
   "metadata": {
    "ExecuteTime": {
     "end_time": "2020-11-11T14:59:16.704792Z",
     "start_time": "2020-11-11T14:59:16.605302Z"
    }
   },
   "outputs": [
    {
     "name": "stdout",
     "output_type": "stream",
     "text": [
      "ep_1 information was added to the summary table\n",
      "ep_2 information was added to the summary table\n",
      "ep_3 information was added to the summary table\n",
      "ep_4 information was added to the summary table\n",
      "ep_5 information was added to the summary table\n",
      "ep_6 information was added to the summary table\n",
      "ep_7 information was added to the summary table\n"
     ]
    }
   ],
   "source": [
    "# create a list of episodes\n",
    "ep_list = ['ep_1', 'ep_2', 'ep_3', 'ep_4', 'ep_5', 'ep_6', 'ep_7']\n",
    "\n",
    "# loops over the list to merge information whether a character appears in each episode to the summary table\n",
    "for ep in ep_list:\n",
    "    # create a dataframe(`df`) from `nodes` element in each episode's dictionary\n",
    "    df = pd.DataFrame(vars()[ep]['nodes'])\n",
    "    # subset only the `name` column\n",
    "    df = df[['name']]\n",
    "    # create a new column with a name corresponding to its episode with a value 1 in each row\n",
    "    df.loc[:, ep] = 1\n",
    "    # merge the newly created dataframe to the summary table\n",
    "    sum_table = pd.merge(sum_table, df, on = 'name', how = 'left')\n",
    "    print('{} information was added to the summary table'.format(ep))\n",
    "\n",
    "# fill NAN with 0\n",
    "sum_table.fillna(0, inplace = True)"
   ]
  },
  {
   "cell_type": "code",
   "execution_count": 15,
   "metadata": {
    "ExecuteTime": {
     "end_time": "2020-11-11T14:59:16.749727Z",
     "start_time": "2020-11-11T14:59:16.706326Z"
    }
   },
   "outputs": [
    {
     "data": {
      "text/html": [
       "<div>\n",
       "<style scoped>\n",
       "    .dataframe tbody tr th:only-of-type {\n",
       "        vertical-align: middle;\n",
       "    }\n",
       "\n",
       "    .dataframe tbody tr th {\n",
       "        vertical-align: top;\n",
       "    }\n",
       "\n",
       "    .dataframe thead th {\n",
       "        text-align: right;\n",
       "    }\n",
       "</style>\n",
       "<table border=\"1\" class=\"dataframe\">\n",
       "  <thead>\n",
       "    <tr style=\"text-align: right;\">\n",
       "      <th></th>\n",
       "      <th>name</th>\n",
       "      <th>ep_1</th>\n",
       "      <th>ep_2</th>\n",
       "      <th>ep_3</th>\n",
       "      <th>ep_4</th>\n",
       "      <th>ep_5</th>\n",
       "      <th>ep_6</th>\n",
       "      <th>ep_7</th>\n",
       "    </tr>\n",
       "  </thead>\n",
       "  <tbody>\n",
       "    <tr>\n",
       "      <th>0</th>\n",
       "      <td>QUI-GON</td>\n",
       "      <td>1.0</td>\n",
       "      <td>0.0</td>\n",
       "      <td>1.0</td>\n",
       "      <td>0.0</td>\n",
       "      <td>0.0</td>\n",
       "      <td>0.0</td>\n",
       "      <td>0.0</td>\n",
       "    </tr>\n",
       "    <tr>\n",
       "      <th>1</th>\n",
       "      <td>NUTE GUNRAY</td>\n",
       "      <td>1.0</td>\n",
       "      <td>1.0</td>\n",
       "      <td>1.0</td>\n",
       "      <td>0.0</td>\n",
       "      <td>0.0</td>\n",
       "      <td>0.0</td>\n",
       "      <td>0.0</td>\n",
       "    </tr>\n",
       "    <tr>\n",
       "      <th>2</th>\n",
       "      <td>PK-4</td>\n",
       "      <td>1.0</td>\n",
       "      <td>1.0</td>\n",
       "      <td>0.0</td>\n",
       "      <td>0.0</td>\n",
       "      <td>0.0</td>\n",
       "      <td>0.0</td>\n",
       "      <td>0.0</td>\n",
       "    </tr>\n",
       "    <tr>\n",
       "      <th>3</th>\n",
       "      <td>TC-14</td>\n",
       "      <td>1.0</td>\n",
       "      <td>0.0</td>\n",
       "      <td>0.0</td>\n",
       "      <td>0.0</td>\n",
       "      <td>0.0</td>\n",
       "      <td>0.0</td>\n",
       "      <td>0.0</td>\n",
       "    </tr>\n",
       "    <tr>\n",
       "      <th>4</th>\n",
       "      <td>OBI-WAN</td>\n",
       "      <td>1.0</td>\n",
       "      <td>1.0</td>\n",
       "      <td>1.0</td>\n",
       "      <td>1.0</td>\n",
       "      <td>1.0</td>\n",
       "      <td>1.0</td>\n",
       "      <td>0.0</td>\n",
       "    </tr>\n",
       "  </tbody>\n",
       "</table>\n",
       "</div>"
      ],
      "text/plain": [
       "          name  ep_1  ep_2  ep_3  ep_4  ep_5  ep_6  ep_7\n",
       "0      QUI-GON   1.0   0.0   1.0   0.0   0.0   0.0   0.0\n",
       "1  NUTE GUNRAY   1.0   1.0   1.0   0.0   0.0   0.0   0.0\n",
       "2         PK-4   1.0   1.0   0.0   0.0   0.0   0.0   0.0\n",
       "3        TC-14   1.0   0.0   0.0   0.0   0.0   0.0   0.0\n",
       "4      OBI-WAN   1.0   1.0   1.0   1.0   1.0   1.0   0.0"
      ]
     },
     "execution_count": 15,
     "metadata": {},
     "output_type": "execute_result"
    }
   ],
   "source": [
    "sum_table.head()"
   ]
  },
  {
   "cell_type": "code",
   "execution_count": 16,
   "metadata": {
    "ExecuteTime": {
     "end_time": "2020-11-11T14:59:16.828831Z",
     "start_time": "2020-11-11T14:59:16.751756Z"
    }
   },
   "outputs": [
    {
     "name": "stdout",
     "output_type": "stream",
     "text": [
      "|     | name                 |   ep_1 |   ep_2 |   ep_3 |   ep_4 |   ep_5 |   ep_6 |   ep_7 |\n",
      "|----:|:---------------------|-------:|-------:|-------:|-------:|-------:|-------:|-------:|\n",
      "|   0 | QUI-GON              |      1 |      0 |      1 |      0 |      0 |      0 |      0 |\n",
      "|   1 | NUTE GUNRAY          |      1 |      1 |      1 |      0 |      0 |      0 |      0 |\n",
      "|   2 | PK-4                 |      1 |      1 |      0 |      0 |      0 |      0 |      0 |\n",
      "|   3 | TC-14                |      1 |      0 |      0 |      0 |      0 |      0 |      0 |\n",
      "|   4 | OBI-WAN              |      1 |      1 |      1 |      1 |      1 |      1 |      0 |\n",
      "|   5 | DOFINE               |      1 |      0 |      0 |      0 |      0 |      0 |      0 |\n",
      "|   6 | RUNE                 |      1 |      0 |      0 |      0 |      0 |      0 |      0 |\n",
      "|   7 | TEY HOW              |      1 |      0 |      0 |      0 |      0 |      0 |      0 |\n",
      "|   8 | EMPEROR              |      1 |      1 |      1 |      0 |      1 |      1 |      0 |\n",
      "|   9 | CAPTAIN PANAKA       |      1 |      0 |      0 |      0 |      0 |      0 |      0 |\n",
      "|  10 | SIO BIBBLE           |      1 |      1 |      0 |      0 |      0 |      0 |      0 |\n",
      "|  11 | JAR JAR              |      1 |      1 |      1 |      0 |      0 |      0 |      0 |\n",
      "|  12 | TARPALS              |      1 |      0 |      0 |      0 |      0 |      0 |      0 |\n",
      "|  13 | BOSS NASS            |      1 |      0 |      0 |      0 |      0 |      0 |      0 |\n",
      "|  14 | PADME                |      1 |      1 |      1 |      0 |      0 |      0 |      0 |\n",
      "|  15 | RIC OLIE             |      1 |      0 |      0 |      0 |      0 |      0 |      0 |\n",
      "|  16 | WATTO                |      1 |      1 |      0 |      0 |      0 |      0 |      0 |\n",
      "|  17 | ANAKIN               |      1 |      1 |      1 |      0 |      0 |      1 |      0 |\n",
      "|  18 | SEBULBA              |      1 |      0 |      0 |      0 |      0 |      0 |      0 |\n",
      "|  19 | JIRA                 |      1 |      0 |      0 |      0 |      0 |      0 |      0 |\n",
      "|  20 | SHMI                 |      1 |      1 |      0 |      0 |      0 |      0 |      0 |\n",
      "|  21 | C-3PO                |      1 |      1 |      1 |      1 |      1 |      1 |      1 |\n",
      "|  22 | DARTH MAUL           |      1 |      0 |      0 |      0 |      0 |      0 |      0 |\n",
      "|  23 | KITSTER              |      1 |      0 |      0 |      0 |      0 |      0 |      0 |\n",
      "|  24 | WALD                 |      1 |      0 |      0 |      0 |      0 |      0 |      0 |\n",
      "|  25 | FODE/BEED            |      1 |      0 |      0 |      0 |      0 |      0 |      0 |\n",
      "|  26 | JABBA                |      1 |      0 |      0 |      1 |      0 |      1 |      0 |\n",
      "|  27 | GREEDO               |      1 |      0 |      0 |      1 |      0 |      0 |      0 |\n",
      "|  28 | VALORUM              |      1 |      0 |      0 |      0 |      0 |      0 |      0 |\n",
      "|  29 | MACE WINDU           |      1 |      1 |      1 |      0 |      0 |      0 |      0 |\n",
      "|  30 | KI-ADI-MUNDI         |      1 |      1 |      0 |      0 |      0 |      0 |      0 |\n",
      "|  31 | YODA                 |      1 |      1 |      1 |      0 |      1 |      1 |      0 |\n",
      "|  32 | RABE                 |      1 |      0 |      0 |      0 |      0 |      0 |      0 |\n",
      "|  33 | BAIL ORGANA          |      1 |      1 |      1 |      0 |      0 |      0 |      0 |\n",
      "|  34 | GENERAL CEEL         |      1 |      0 |      0 |      0 |      0 |      0 |      0 |\n",
      "|  35 | BRAVO TWO            |      1 |      0 |      0 |      0 |      0 |      0 |      0 |\n",
      "|  36 | BRAVO THREE          |      1 |      0 |      0 |      0 |      0 |      0 |      0 |\n",
      "|  37 | CAPTAIN TYPHO        |      0 |      1 |      1 |      0 |      0 |      0 |      0 |\n",
      "|  38 | SENATOR ASK AAK      |      0 |      1 |      0 |      0 |      0 |      0 |      0 |\n",
      "|  39 | ORN FREE TAA         |      0 |      1 |      0 |      0 |      0 |      0 |      0 |\n",
      "|  40 | SOLA                 |      0 |      1 |      0 |      0 |      0 |      0 |      0 |\n",
      "|  41 | JOBAL                |      0 |      1 |      0 |      0 |      0 |      0 |      0 |\n",
      "|  42 | RUWEE                |      0 |      1 |      0 |      0 |      0 |      0 |      0 |\n",
      "|  43 | TAUN WE              |      0 |      1 |      0 |      0 |      0 |      0 |      0 |\n",
      "|  44 | LAMA SU              |      0 |      1 |      0 |      0 |      0 |      0 |      0 |\n",
      "|  45 | BOBA FETT            |      0 |      1 |      0 |      0 |      1 |      0 |      0 |\n",
      "|  46 | JANGO FETT           |      0 |      1 |      0 |      0 |      0 |      0 |      0 |\n",
      "|  47 | OWEN                 |      0 |      1 |      0 |      1 |      0 |      0 |      0 |\n",
      "|  48 | BERU                 |      0 |      1 |      0 |      1 |      0 |      0 |      0 |\n",
      "|  49 | CLIEGG               |      0 |      1 |      0 |      0 |      0 |      0 |      0 |\n",
      "|  50 | COUNT DOOKU          |      0 |      1 |      1 |      0 |      0 |      0 |      0 |\n",
      "|  51 | SUN RIT              |      0 |      1 |      0 |      0 |      0 |      0 |      0 |\n",
      "|  52 | POGGLE               |      0 |      1 |      0 |      0 |      0 |      0 |      0 |\n",
      "|  53 | PLO KOON             |      0 |      1 |      1 |      0 |      0 |      0 |      0 |\n",
      "|  54 | ODD BALL             |      0 |      0 |      1 |      0 |      0 |      0 |      0 |\n",
      "|  55 | GENERAL GRIEVOUS     |      0 |      0 |      1 |      0 |      0 |      0 |      0 |\n",
      "|  56 | FANG ZAR             |      0 |      0 |      1 |      0 |      0 |      0 |      0 |\n",
      "|  57 | MON MOTHMA           |      0 |      0 |      1 |      0 |      0 |      1 |      0 |\n",
      "|  58 | GIDDEAN DANU         |      0 |      0 |      1 |      0 |      0 |      0 |      0 |\n",
      "|  59 | CLONE COMMANDER GREE |      0 |      0 |      1 |      0 |      0 |      0 |      0 |\n",
      "|  60 | CLONE COMMANDER CODY |      0 |      0 |      1 |      0 |      0 |      0 |      0 |\n",
      "|  61 | TION MEDON           |      0 |      0 |      1 |      0 |      0 |      0 |      0 |\n",
      "|  62 | CAPTAIN ANTILLES     |      0 |      0 |      1 |      0 |      0 |      0 |      0 |\n",
      "|  63 | DARTH VADER          |      0 |      0 |      1 |      1 |      1 |      1 |      0 |\n",
      "|  64 | LUKE                 |      0 |      0 |      0 |      1 |      1 |      1 |      0 |\n",
      "|  65 | CAMIE                |      0 |      0 |      0 |      1 |      0 |      0 |      0 |\n",
      "|  66 | BIGGS                |      0 |      0 |      0 |      1 |      0 |      0 |      0 |\n",
      "|  67 | LEIA                 |      0 |      0 |      0 |      1 |      1 |      1 |      1 |\n",
      "|  68 | MOTTI                |      0 |      0 |      0 |      1 |      0 |      0 |      0 |\n",
      "|  69 | TARKIN               |      0 |      0 |      0 |      1 |      0 |      0 |      0 |\n",
      "|  70 | HAN                  |      0 |      0 |      0 |      1 |      1 |      1 |      1 |\n",
      "|  71 | DODONNA              |      0 |      0 |      0 |      1 |      0 |      0 |      0 |\n",
      "|  72 | GOLD LEADER          |      0 |      0 |      0 |      1 |      0 |      0 |      0 |\n",
      "|  73 | WEDGE                |      0 |      0 |      0 |      1 |      1 |      1 |      0 |\n",
      "|  74 | RED LEADER           |      0 |      0 |      0 |      1 |      0 |      0 |      0 |\n",
      "|  75 | RED TEN              |      0 |      0 |      0 |      1 |      0 |      0 |      0 |\n",
      "|  76 | GOLD FIVE            |      0 |      0 |      0 |      1 |      0 |      0 |      0 |\n",
      "|  77 | RIEEKAN              |      0 |      0 |      0 |      0 |      1 |      0 |      0 |\n",
      "|  78 | DERLIN               |      0 |      0 |      0 |      0 |      1 |      0 |      0 |\n",
      "|  79 | ZEV                  |      0 |      0 |      0 |      0 |      1 |      0 |      0 |\n",
      "|  80 | PIETT                |      0 |      0 |      0 |      0 |      1 |      1 |      0 |\n",
      "|  81 | OZZEL                |      0 |      0 |      0 |      0 |      1 |      0 |      0 |\n",
      "|  82 | DACK                 |      0 |      0 |      0 |      0 |      1 |      0 |      0 |\n",
      "|  83 | JANSON               |      0 |      0 |      0 |      0 |      1 |      0 |      0 |\n",
      "|  84 | NEEDA                |      0 |      0 |      0 |      0 |      1 |      0 |      0 |\n",
      "|  85 | LANDO                |      0 |      0 |      0 |      0 |      1 |      1 |      0 |\n",
      "|  86 | JERJERROD            |      0 |      0 |      0 |      0 |      0 |      1 |      0 |\n",
      "|  87 | BIB FORTUNA          |      0 |      0 |      0 |      0 |      0 |      1 |      0 |\n",
      "|  88 | BOUSHH               |      0 |      0 |      0 |      0 |      0 |      1 |      0 |\n",
      "|  89 | ADMIRAL ACKBAR       |      0 |      0 |      0 |      0 |      0 |      1 |      1 |\n",
      "|  90 | LOR SAN TEKKA        |      0 |      0 |      0 |      0 |      0 |      0 |      1 |\n",
      "|  91 | POE                  |      0 |      0 |      0 |      0 |      0 |      0 |      1 |\n",
      "|  92 | KYLO REN             |      0 |      0 |      0 |      0 |      0 |      0 |      1 |\n",
      "|  93 | CAPTAIN PHASMA       |      0 |      0 |      0 |      0 |      0 |      0 |      1 |\n",
      "|  94 | FINN                 |      0 |      0 |      0 |      0 |      0 |      0 |      1 |\n",
      "|  95 | UNKAR PLUTT          |      0 |      0 |      0 |      0 |      0 |      0 |      1 |\n",
      "|  96 | REY                  |      0 |      0 |      0 |      0 |      0 |      0 |      1 |\n",
      "|  97 | GENERAL HUX          |      0 |      0 |      0 |      0 |      0 |      0 |      1 |\n",
      "|  98 | LIEUTENANT MITAKA    |      0 |      0 |      0 |      0 |      0 |      0 |      1 |\n",
      "|  99 | BALA-TIK             |      0 |      0 |      0 |      0 |      0 |      0 |      1 |\n",
      "| 100 | SNOKE                |      0 |      0 |      0 |      0 |      0 |      0 |      1 |\n",
      "| 101 | MAZ                  |      0 |      0 |      0 |      0 |      0 |      0 |      1 |\n",
      "| 102 | BB-8                 |      0 |      0 |      0 |      0 |      0 |      0 |      1 |\n",
      "| 103 | SNAP                 |      0 |      0 |      0 |      0 |      0 |      0 |      1 |\n",
      "| 104 | ADMIRAL STATURA      |      0 |      0 |      0 |      0 |      0 |      0 |      1 |\n",
      "| 105 | YOLO ZIFF            |      0 |      0 |      0 |      0 |      0 |      0 |      1 |\n",
      "| 106 | COLONEL DATOO        |      0 |      0 |      0 |      0 |      0 |      0 |      1 |\n",
      "| 107 | ELLO ASTY            |      0 |      0 |      0 |      0 |      0 |      0 |      1 |\n",
      "| 108 | JESS                 |      0 |      0 |      0 |      0 |      0 |      0 |      1 |\n",
      "| 109 | NIV LEK              |      0 |      0 |      0 |      0 |      0 |      0 |      1 |\n"
     ]
    }
   ],
   "source": [
    "print(tabulate(sum_table, headers='keys', tablefmt='pipe'))"
   ]
  }
 ],
 "metadata": {
  "kernelspec": {
   "display_name": "Python [conda env:tt]",
   "language": "python",
   "name": "conda-env-tt-py"
  },
  "language_info": {
   "codemirror_mode": {
    "name": "ipython",
    "version": 3
   },
   "file_extension": ".py",
   "mimetype": "text/x-python",
   "name": "python",
   "nbconvert_exporter": "python",
   "pygments_lexer": "ipython3",
   "version": "3.8.6"
  },
  "latex_envs": {
   "LaTeX_envs_menu_present": true,
   "autoclose": false,
   "autocomplete": true,
   "bibliofile": "biblio.bib",
   "cite_by": "apalike",
   "current_citInitial": 1,
   "eqLabelWithNumbers": true,
   "eqNumInitial": 1,
   "hotkeys": {
    "equation": "Ctrl-E",
    "itemize": "Ctrl-I"
   },
   "labels_anchors": false,
   "latex_user_defs": false,
   "report_style_numbering": false,
   "user_envs_cfg": false
  },
  "toc": {
   "base_numbering": 1,
   "nav_menu": {},
   "number_sections": true,
   "sideBar": true,
   "skip_h1_title": false,
   "title_cell": "Table of Contents",
   "title_sidebar": "Contents",
   "toc_cell": false,
   "toc_position": {},
   "toc_section_display": true,
   "toc_window_display": true
  },
  "varInspector": {
   "cols": {
    "lenName": 16,
    "lenType": 16,
    "lenVar": 40
   },
   "kernels_config": {
    "python": {
     "delete_cmd_postfix": "",
     "delete_cmd_prefix": "del ",
     "library": "var_list.py",
     "varRefreshCmd": "print(var_dic_list())"
    },
    "r": {
     "delete_cmd_postfix": ") ",
     "delete_cmd_prefix": "rm(",
     "library": "var_list.r",
     "varRefreshCmd": "cat(var_dic_list()) "
    }
   },
   "types_to_exclude": [
    "module",
    "function",
    "builtin_function_or_method",
    "instance",
    "_Feature"
   ],
   "window_display": false
  }
 },
 "nbformat": 4,
 "nbformat_minor": 4
}
